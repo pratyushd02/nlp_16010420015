{
  "cells": [
    {
      "cell_type": "code",
      "execution_count": null,
      "metadata": {
        "colab": {
          "base_uri": "https://localhost:8080/"
        },
        "id": "as3X4FEy8bE5",
        "outputId": "b75445a3-0cbf-4668-8af5-a113677154f3"
      },
      "outputs": [
        {
          "output_type": "stream",
          "name": "stderr",
          "text": [
            "[nltk_data] Downloading package wordnet to /root/nltk_data...\n",
            "[nltk_data]   Package wordnet is already up-to-date!\n"
          ]
        },
        {
          "output_type": "execute_result",
          "data": {
            "text/plain": [
              "True"
            ]
          },
          "metadata": {},
          "execution_count": 2
        }
      ],
      "source": [
        "import nltk\n",
        "from nltk.stem import WordNetLemmatizer\n",
        "nltk.download('wordnet')"
      ]
    },
    {
      "cell_type": "code",
      "execution_count": null,
      "metadata": {
        "colab": {
          "base_uri": "https://localhost:8080/"
        },
        "id": "Yf-3lehc8bFC",
        "outputId": "3e58865f-a9b0-4c13-c87e-66c9e0144545"
      },
      "outputs": [
        {
          "output_type": "execute_result",
          "data": {
            "text/plain": [
              "0       It seems that nothing that I do allows buildro...\n",
              "1       I've gone so far as to delete ~/.config/QtProj...\n",
              "2       So I'm following this custom module guide to d...\n",
              "3                         How can I solve these problems?\n",
              "4       In all cases check out compiler availability (...\n",
              "                              ...                        \n",
              "7142    Long story short: call it from a different thr...\n",
              "7143             it works well on the matlab environment.\n",
              "7144    It does a lot more, but that is the part I'm h...\n",
              "7145    I am working on a project and ideally I would ...\n",
              "7146    I have the latest version of OpenOCD installed...\n",
              "Name: Sentence, Length: 7147, dtype: object"
            ]
          },
          "metadata": {},
          "execution_count": 3
        }
      ],
      "source": [
        "import pandas as pd\n",
        "df = pd.read_csv(\"IoT-Security-Dataset.csv\")\n",
        "df[\"Sentence\"]"
      ]
    },
    {
      "cell_type": "code",
      "source": [
        "lemmatizer = WordNetLemmatizer()"
      ],
      "metadata": {
        "id": "eZrHRpDB-1MY"
      },
      "execution_count": null,
      "outputs": []
    },
    {
      "cell_type": "code",
      "source": [
        "for i in df['Sentence'][:10]:\n",
        "  lemmatized_words = [lemmatizer.lemmatize(word) for word in i]\n",
        "  print(\"The lemmatized words: \", lemmatized_words)"
      ],
      "metadata": {
        "colab": {
          "base_uri": "https://localhost:8080/"
        },
        "id": "m5NxKE-B-9Ig",
        "outputId": "5175bfb6-9eb8-456f-e767-fbdf5c2c9f52"
      },
      "execution_count": null,
      "outputs": [
        {
          "output_type": "stream",
          "name": "stdout",
          "text": [
            "The lemmatized words:  ['I', 't', ' ', 's', 'e', 'e', 'm', 's', ' ', 't', 'h', 'a', 't', ' ', 'n', 'o', 't', 'h', 'i', 'n', 'g', ' ', 't', 'h', 'a', 't', ' ', 'I', ' ', 'd', 'o', ' ', 'a', 'l', 'l', 'o', 'w', 's', ' ', 'b', 'u', 'i', 'l', 'd', 'r', 'o', 'o', 't', ' ', 't', 'o', ' ', 's', 'e', 'e', ' ', 't', 'h', 'e', ' ', 'g', 's', 't', '.', 'h', ' ', 'f', 'i', 'l', 'e', '.']\n",
            "The lemmatized words:  ['I', \"'\", 'v', 'e', ' ', 'g', 'o', 'n', 'e', ' ', 's', 'o', ' ', 'f', 'a', 'r', ' ', 'a', 's', ' ', 't', 'o', ' ', 'd', 'e', 'l', 'e', 't', 'e', ' ', '~', '/', '.', 'c', 'o', 'n', 'f', 'i', 'g', '/', 'Q', 't', 'P', 'r', 'o', 'j', 'e', 'c', 't', ' ', 'd', 'i', 'r', 'e', 'c', 't', 'o', 'r', 'y', ' ', '(', 't', 'h', 'u', 's', ' ', 'e', 'r', 'a', 's', 'i', 'n', 'g', ' ', 'm', 'y', ' ', 'e', 'n', 't', 'i', 'r', 'e', ' ', 'Q', 'T', ' ', 'c', 'r', 'e', 'a', 't', 'o', 'r', ' ', 'c', 'o', 'n', 'f', 'i', 'g', 'u', 'r', 'a', 't', 'i', 'o', 'n', ')', ' ', 'a', 'n', 'd', ' ', 's', 't', 'a', 'r', 't', 'i', 'n', 'g', ' ', 'f', 'r', 'o', 'm', ' ', 's', 'c', 'r', 'a', 't', 'c', 'h', '.']\n",
            "The lemmatized words:  ['S', 'o', ' ', 'I', \"'\", 'm', ' ', 'f', 'o', 'l', 'l', 'o', 'w', 'i', 'n', 'g', ' ', 't', 'h', 'i', 's', ' ', 'c', 'u', 's', 't', 'o', 'm', ' ', 'm', 'o', 'd', 'u', 'l', 'e', ' ', 'g', 'u', 'i', 'd', 'e', ' ', 't', 'o', ' ', 'd', 'o', ' ', 's', 'o', ' ', 'a', 'n', 'd', ' ', 'i', 'n', ' ', 't', 'h', 'e', ' ', 'A', 'z', 'u', 'r', 'e', ' ', 'p', 'o', 'r', 't', 'a', 'l', ' ', 'I', ' ', 'c', 'o', 'n', 'f', 'i', 'r', 'm', ' ', 'b', 'o', 't', 'h', ' ', 't', 'h', 'e', ' ', 'e', 'd', 'g', 'e', ' ', 's', 'y', 's', 't', 'e', 'm', ' ', 'm', 'o', 'd', 'u', 'l', 'e', 's', ' ', 'a', 'n', 'd', ' ', 'e', 'd', 'g', 'e', ' ', 'c', 'u', 's', 't', 'o', 'm', ' ', 'm', 'o', 'd', 'u', 'l', 'e', ' ', 'a', 'r', 'e', ' ', 'r', 'e', 'p', 'o', 'r', 't', 'e', 'd', ' ', 'o', 'n', ' ', 't', 'h', 'e', ' ', 'd', 'e', 'v', 'i', 'c', 'e', ',', ' ', 'b', 'u', 't', ' ', 'I', \"'\", 'm', ' ', 'n', 'o', 'w', ' ', 'r', 'u', 'n', 'n', 'i', 'n', 'g', ' ', 'i', 'n', 't', 'o', ' ', 's', 'o', 'm', 'e', ' ', 'h', 'a', 'r', 'd', ' ', 't', 'o', ' ', 'd', 'e', 'b', 'u', 'g', ' ', 'r', 'u', 'n', 't', 'i', 'm', 'e', ' ', 'e', 'r', 'r', 'o', 'r', 's', ' ', 'f', 'o', 'r', ' ', 'b', 'o', 't', 'h', ' ', 't', 'h', 'e', ' ', 'e', 'd', 'g', 'e', 'H', 'u', 'b', ' ', 'a', 'n', 'd', ' ', 'V', 'i', 's', 'i', 'o', 'n', 'S', 'a', 'm', 'p', 'l', 'e', '.']\n",
            "The lemmatized words:  ['H', 'o', 'w', ' ', 'c', 'a', 'n', ' ', 'I', ' ', 's', 'o', 'l', 'v', 'e', ' ', 't', 'h', 'e', 's', 'e', ' ', 'p', 'r', 'o', 'b', 'l', 'e', 'm', 's', '?']\n",
            "The lemmatized words:  ['I', 'n', ' ', 'a', 'l', 'l', ' ', 'c', 'a', 's', 'e', 's', ' ', 'c', 'h', 'e', 'c', 'k', ' ', 'o', 'u', 't', ' ', 'c', 'o', 'm', 'p', 'i', 'l', 'e', 'r', ' ', 'a', 'v', 'a', 'i', 'l', 'a', 'b', 'i', 'l', 'i', 't', 'y', ' ', '(', 'e', 's', 'p', 'e', 'c', 'i', 'a', 'l', 'l', 'y', ' ', 'i', 'f', ' ', 'C', '+', '+', ' ', 's', 'u', 'p', 'p', 'o', 'r', 't', ' ', 'i', 's', ' ', 'a', ' ', 'r', 'e', 'q', 'u', 'i', 'r', 'e', 'm', 'e', 'n', 't', ')', ' ', 'a', 'n', 'd', ' ', 'c', 'o', 's', 't', ',', ' ', 'a', 'n', 'd', ' ', 'd', 'e', 'b', 'u', 'g', 'g', 'e', 'r', ' ', 'h', 'a', 'r', 'd', 'w', 'a', 'r', 'e', ' ', 'r', 'e', 'q', 'u', 'i', 'r', 'e', 'm', 'e', 'n', 't', 's', ',', ' ', 's', 'i', 'n', 'c', 'e', ' ', 'o', 'f', 't', 'e', 'n', ' ', 't', 'h', 'e', 's', 'e', ' ', 'w', 'i', 'l', 'l', ' ', 'b', 'e', ' ', 't', 'h', 'e', ' ', 'm', 'o', 's', 't', ' ', 'e', 'x', 'p', 'e', 'n', 's', 'i', 'v', 'e', ' ', 'p', 'a', 'r', 't', 's', ' ', 'o', 'f', ' ', 'y', 'o', 'u', 'r', ' ', 'd', 'e', 'v', '-', 'k', 'i', 't', ',', ' ', 't', 'h', 'e', ' ', 'b', 'o', 'a', 'r', 'd', 's', ' ', 'a', 'n', 'd', ' ', 'p', 'a', 'r', 't', 's', ' ', 'a', 'r', 'e', ' ', 'o', 'f', 't', 'e', 'n', ' ', 't', 'h', 'e', ' ', 'l', 'e', 'a', 's', 't', ' ', 'e', 'x', 'p', 'e', 'n', 's', 'i', 'v', 'e', ' ', 'p', 'a', 'r', 't', '.']\n",
            "The lemmatized words:  ['H', 'e', 'r', 'e', ' ', 'i', 's', ' ', 'w', 'h', 'a', 't', ' ', 'i', ' ', 'd', 'i', 'd', ':', '\\n', '\\n', 'I', 'n', ' ', 'm', 'y', ' ', 'e', 'n', 'v', 'i', 'r', 'o', 'n', 'm', 'e', 'n', 't', ' ', 't', 'h', 'e', 'r', 'e', ' ', 'a', 'r', 'e', ' ', 's', 'o', 'm', 'e', ' ', 'o', 't', 'h', 'e', 'r', ' ', 'd', 'e', 'v', 'i', 'c', 'e', 's', ' ', 'a', 'v', 'a', 'i', 'l', 'a', 'b', 'l', 'e', ' ', 'b', 'u', 't', ' ', 'i', ' ', 'f', 'i', 'l', 't', 'e', 'r', 'e', 'd', ' ', 't', 'h', 'e', ' ', 'r', 'e', 's', 'u', 'l', 't', ' ', 'f', 'o', 'r', ' ', 'H', 'C', '.', '*', '.']\n",
            "The lemmatized words:  ['W', 'h', 'y', ' ', 'd', 'o', 'e', 's', ' ', 't', 'h', 'e', ' ', 'f', 'o', 'l', 'l', 'o', 'w', 'i', 'n', 'g', ' ', 'c', 'o', 'd', 'e', ' ', 'n', 'o', 't', ' ', 'w', 'o', 'r', 'k', ' ', 'i', 'n', ' ', 'A', 'r', 'd', 'u', 'i', 'n', 'o', '?']\n",
            "The lemmatized words:  ['Y', 'o', 'u', ' ', 'c', 'a', 'n', ' ', 'd', 'i', 'r', 'e', 'c', 't', 'l', 'y', ' ', 'r', 'e', 'a', 'd', ' ', 't', 'h', 'e', ' ', 'A', 'r', 'd', 'u', 'i', 'n', 'o', ' ', 't', 'h', 'r', 'o', 'u', 'g', 'h', ' ', 't', 'h', 'e', ' ', 'U', 'S', 'B', ' ', 's', 'e', 'r', 'i', 'a', 'l', ' ', 'p', 'o', 'r', 't', '.']\n",
            "The lemmatized words:  ['T', 'h', 'e', ' ', 'i', 's', 's', 'u', 'e', 's', ' ', 'r', 'e', 'l', 'a', 't', 'e', 'd', ' ', 'w', 'i', 't', 'h', ' ', 'c', 'o', 'c', 'o', ' ', 't', 'o', 'u', 'c', 'h', \"'\", 's', ' ', 'U', 'I', 'P', 'r', 'i', 'n', 't', 'P', 'a', 'g', 'e', 'R', 'e', 'n', 'd', 'e', 'r', ' ', 's', 'h', 'o', 'u', 'l', 'd', ' ', 'o', 'n', 'l', 'y', ' ', 'u', 's', 'e', ' ', 't', 'h', 'i', 's', ' ', 't', 'a', 'g', '.']\n",
            "The lemmatized words:  ['D', 'i', 'd', ' ', 'y', 'o', 'u', ' ', 't', 'r', 'y', ' ', 't', 'o', ' ', 'j', 'u', 's', 't', ' ', 'p', 'r', 'i', 'n', 't', ' ', 't', 'h', 'e', ' ', 'd', 'a', 't', 'a', '?']\n"
          ]
        }
      ]
    },
    {
      "cell_type": "code",
      "source": [
        "for i in df['Sentence'][:10]:\n",
        "  lemmatized_words_pos = [lemmatizer.lemmatize(word, pos = \"v\") for word in i]\n",
        "  print(\"The lemmatized words using a POS tag: \", lemmatized_words_pos)"
      ],
      "metadata": {
        "colab": {
          "base_uri": "https://localhost:8080/"
        },
        "id": "zkD_f2bK_BYQ",
        "outputId": "f82572ef-5c2a-47a6-f240-1de961347abd"
      },
      "execution_count": null,
      "outputs": [
        {
          "output_type": "stream",
          "name": "stdout",
          "text": [
            "The lemmatized words using a POS tag:  ['I', 't', ' ', 's', 'e', 'e', 'm', 's', ' ', 't', 'h', 'a', 't', ' ', 'n', 'o', 't', 'h', 'i', 'n', 'g', ' ', 't', 'h', 'a', 't', ' ', 'I', ' ', 'd', 'o', ' ', 'a', 'l', 'l', 'o', 'w', 's', ' ', 'b', 'u', 'i', 'l', 'd', 'r', 'o', 'o', 't', ' ', 't', 'o', ' ', 's', 'e', 'e', ' ', 't', 'h', 'e', ' ', 'g', 's', 't', '.', 'h', ' ', 'f', 'i', 'l', 'e', '.']\n",
            "The lemmatized words using a POS tag:  ['I', \"'\", 'v', 'e', ' ', 'g', 'o', 'n', 'e', ' ', 's', 'o', ' ', 'f', 'a', 'r', ' ', 'a', 's', ' ', 't', 'o', ' ', 'd', 'e', 'l', 'e', 't', 'e', ' ', '~', '/', '.', 'c', 'o', 'n', 'f', 'i', 'g', '/', 'Q', 't', 'P', 'r', 'o', 'j', 'e', 'c', 't', ' ', 'd', 'i', 'r', 'e', 'c', 't', 'o', 'r', 'y', ' ', '(', 't', 'h', 'u', 's', ' ', 'e', 'r', 'a', 's', 'i', 'n', 'g', ' ', 'm', 'y', ' ', 'e', 'n', 't', 'i', 'r', 'e', ' ', 'Q', 'T', ' ', 'c', 'r', 'e', 'a', 't', 'o', 'r', ' ', 'c', 'o', 'n', 'f', 'i', 'g', 'u', 'r', 'a', 't', 'i', 'o', 'n', ')', ' ', 'a', 'n', 'd', ' ', 's', 't', 'a', 'r', 't', 'i', 'n', 'g', ' ', 'f', 'r', 'o', 'm', ' ', 's', 'c', 'r', 'a', 't', 'c', 'h', '.']\n",
            "The lemmatized words using a POS tag:  ['S', 'o', ' ', 'I', \"'\", 'm', ' ', 'f', 'o', 'l', 'l', 'o', 'w', 'i', 'n', 'g', ' ', 't', 'h', 'i', 's', ' ', 'c', 'u', 's', 't', 'o', 'm', ' ', 'm', 'o', 'd', 'u', 'l', 'e', ' ', 'g', 'u', 'i', 'd', 'e', ' ', 't', 'o', ' ', 'd', 'o', ' ', 's', 'o', ' ', 'a', 'n', 'd', ' ', 'i', 'n', ' ', 't', 'h', 'e', ' ', 'A', 'z', 'u', 'r', 'e', ' ', 'p', 'o', 'r', 't', 'a', 'l', ' ', 'I', ' ', 'c', 'o', 'n', 'f', 'i', 'r', 'm', ' ', 'b', 'o', 't', 'h', ' ', 't', 'h', 'e', ' ', 'e', 'd', 'g', 'e', ' ', 's', 'y', 's', 't', 'e', 'm', ' ', 'm', 'o', 'd', 'u', 'l', 'e', 's', ' ', 'a', 'n', 'd', ' ', 'e', 'd', 'g', 'e', ' ', 'c', 'u', 's', 't', 'o', 'm', ' ', 'm', 'o', 'd', 'u', 'l', 'e', ' ', 'a', 'r', 'e', ' ', 'r', 'e', 'p', 'o', 'r', 't', 'e', 'd', ' ', 'o', 'n', ' ', 't', 'h', 'e', ' ', 'd', 'e', 'v', 'i', 'c', 'e', ',', ' ', 'b', 'u', 't', ' ', 'I', \"'\", 'm', ' ', 'n', 'o', 'w', ' ', 'r', 'u', 'n', 'n', 'i', 'n', 'g', ' ', 'i', 'n', 't', 'o', ' ', 's', 'o', 'm', 'e', ' ', 'h', 'a', 'r', 'd', ' ', 't', 'o', ' ', 'd', 'e', 'b', 'u', 'g', ' ', 'r', 'u', 'n', 't', 'i', 'm', 'e', ' ', 'e', 'r', 'r', 'o', 'r', 's', ' ', 'f', 'o', 'r', ' ', 'b', 'o', 't', 'h', ' ', 't', 'h', 'e', ' ', 'e', 'd', 'g', 'e', 'H', 'u', 'b', ' ', 'a', 'n', 'd', ' ', 'V', 'i', 's', 'i', 'o', 'n', 'S', 'a', 'm', 'p', 'l', 'e', '.']\n",
            "The lemmatized words using a POS tag:  ['H', 'o', 'w', ' ', 'c', 'a', 'n', ' ', 'I', ' ', 's', 'o', 'l', 'v', 'e', ' ', 't', 'h', 'e', 's', 'e', ' ', 'p', 'r', 'o', 'b', 'l', 'e', 'm', 's', '?']\n",
            "The lemmatized words using a POS tag:  ['I', 'n', ' ', 'a', 'l', 'l', ' ', 'c', 'a', 's', 'e', 's', ' ', 'c', 'h', 'e', 'c', 'k', ' ', 'o', 'u', 't', ' ', 'c', 'o', 'm', 'p', 'i', 'l', 'e', 'r', ' ', 'a', 'v', 'a', 'i', 'l', 'a', 'b', 'i', 'l', 'i', 't', 'y', ' ', '(', 'e', 's', 'p', 'e', 'c', 'i', 'a', 'l', 'l', 'y', ' ', 'i', 'f', ' ', 'C', '+', '+', ' ', 's', 'u', 'p', 'p', 'o', 'r', 't', ' ', 'i', 's', ' ', 'a', ' ', 'r', 'e', 'q', 'u', 'i', 'r', 'e', 'm', 'e', 'n', 't', ')', ' ', 'a', 'n', 'd', ' ', 'c', 'o', 's', 't', ',', ' ', 'a', 'n', 'd', ' ', 'd', 'e', 'b', 'u', 'g', 'g', 'e', 'r', ' ', 'h', 'a', 'r', 'd', 'w', 'a', 'r', 'e', ' ', 'r', 'e', 'q', 'u', 'i', 'r', 'e', 'm', 'e', 'n', 't', 's', ',', ' ', 's', 'i', 'n', 'c', 'e', ' ', 'o', 'f', 't', 'e', 'n', ' ', 't', 'h', 'e', 's', 'e', ' ', 'w', 'i', 'l', 'l', ' ', 'b', 'e', ' ', 't', 'h', 'e', ' ', 'm', 'o', 's', 't', ' ', 'e', 'x', 'p', 'e', 'n', 's', 'i', 'v', 'e', ' ', 'p', 'a', 'r', 't', 's', ' ', 'o', 'f', ' ', 'y', 'o', 'u', 'r', ' ', 'd', 'e', 'v', '-', 'k', 'i', 't', ',', ' ', 't', 'h', 'e', ' ', 'b', 'o', 'a', 'r', 'd', 's', ' ', 'a', 'n', 'd', ' ', 'p', 'a', 'r', 't', 's', ' ', 'a', 'r', 'e', ' ', 'o', 'f', 't', 'e', 'n', ' ', 't', 'h', 'e', ' ', 'l', 'e', 'a', 's', 't', ' ', 'e', 'x', 'p', 'e', 'n', 's', 'i', 'v', 'e', ' ', 'p', 'a', 'r', 't', '.']\n",
            "The lemmatized words using a POS tag:  ['H', 'e', 'r', 'e', ' ', 'i', 's', ' ', 'w', 'h', 'a', 't', ' ', 'i', ' ', 'd', 'i', 'd', ':', '\\n', '\\n', 'I', 'n', ' ', 'm', 'y', ' ', 'e', 'n', 'v', 'i', 'r', 'o', 'n', 'm', 'e', 'n', 't', ' ', 't', 'h', 'e', 'r', 'e', ' ', 'a', 'r', 'e', ' ', 's', 'o', 'm', 'e', ' ', 'o', 't', 'h', 'e', 'r', ' ', 'd', 'e', 'v', 'i', 'c', 'e', 's', ' ', 'a', 'v', 'a', 'i', 'l', 'a', 'b', 'l', 'e', ' ', 'b', 'u', 't', ' ', 'i', ' ', 'f', 'i', 'l', 't', 'e', 'r', 'e', 'd', ' ', 't', 'h', 'e', ' ', 'r', 'e', 's', 'u', 'l', 't', ' ', 'f', 'o', 'r', ' ', 'H', 'C', '.', '*', '.']\n",
            "The lemmatized words using a POS tag:  ['W', 'h', 'y', ' ', 'd', 'o', 'e', 's', ' ', 't', 'h', 'e', ' ', 'f', 'o', 'l', 'l', 'o', 'w', 'i', 'n', 'g', ' ', 'c', 'o', 'd', 'e', ' ', 'n', 'o', 't', ' ', 'w', 'o', 'r', 'k', ' ', 'i', 'n', ' ', 'A', 'r', 'd', 'u', 'i', 'n', 'o', '?']\n",
            "The lemmatized words using a POS tag:  ['Y', 'o', 'u', ' ', 'c', 'a', 'n', ' ', 'd', 'i', 'r', 'e', 'c', 't', 'l', 'y', ' ', 'r', 'e', 'a', 'd', ' ', 't', 'h', 'e', ' ', 'A', 'r', 'd', 'u', 'i', 'n', 'o', ' ', 't', 'h', 'r', 'o', 'u', 'g', 'h', ' ', 't', 'h', 'e', ' ', 'U', 'S', 'B', ' ', 's', 'e', 'r', 'i', 'a', 'l', ' ', 'p', 'o', 'r', 't', '.']\n",
            "The lemmatized words using a POS tag:  ['T', 'h', 'e', ' ', 'i', 's', 's', 'u', 'e', 's', ' ', 'r', 'e', 'l', 'a', 't', 'e', 'd', ' ', 'w', 'i', 't', 'h', ' ', 'c', 'o', 'c', 'o', ' ', 't', 'o', 'u', 'c', 'h', \"'\", 's', ' ', 'U', 'I', 'P', 'r', 'i', 'n', 't', 'P', 'a', 'g', 'e', 'R', 'e', 'n', 'd', 'e', 'r', ' ', 's', 'h', 'o', 'u', 'l', 'd', ' ', 'o', 'n', 'l', 'y', ' ', 'u', 's', 'e', ' ', 't', 'h', 'i', 's', ' ', 't', 'a', 'g', '.']\n",
            "The lemmatized words using a POS tag:  ['D', 'i', 'd', ' ', 'y', 'o', 'u', ' ', 't', 'r', 'y', ' ', 't', 'o', ' ', 'j', 'u', 's', 't', ' ', 'p', 'r', 'i', 'n', 't', ' ', 't', 'h', 'e', ' ', 'd', 'a', 't', 'a', '?']\n"
          ]
        }
      ]
    }
  ],
  "metadata": {
    "kernelspec": {
      "display_name": "Python 3",
      "language": "python",
      "name": "python3"
    },
    "language_info": {
      "codemirror_mode": {
        "name": "ipython",
        "version": 3
      },
      "file_extension": ".py",
      "mimetype": "text/x-python",
      "name": "python",
      "nbconvert_exporter": "python",
      "pygments_lexer": "ipython3",
      "version": "3.11.0"
    },
    "orig_nbformat": 4,
    "colab": {
      "provenance": []
    }
  },
  "nbformat": 4,
  "nbformat_minor": 0
}